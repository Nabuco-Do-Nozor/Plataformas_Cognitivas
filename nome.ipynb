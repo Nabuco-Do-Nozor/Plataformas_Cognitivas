{
  "nbformat": 4,
  "nbformat_minor": 0,
  "metadata": {
    "colab": {
      "provenance": []
    },
    "kernelspec": {
      "name": "python3",
      "display_name": "Python 3"
    },
    "language_info": {
      "name": "python"
    }
  },
  "cells": [
    {
      "cell_type": "code",
      "execution_count": 12,
      "metadata": {
        "colab": {
          "base_uri": "https://localhost:8080/"
        },
        "id": "EmO_r2kergDy",
        "outputId": "2718c56a-46ad-452d-827f-922435a60a77"
      },
      "outputs": [
        {
          "output_type": "stream",
          "name": "stdout",
          "text": [
            "<Response [200]>\n"
          ]
        },
        {
          "output_type": "execute_result",
          "data": {
            "text/plain": [
              "{'date': '2024-03-06',\n",
              " 'explanation': 'What kind of celestial object is this? A relatively normal galaxy -- but seen from its edge.  Many disk galaxies are actually just as thin as NGC 5866, the Spindle galaxy, pictured here, but are not seen edge-on from our vantage point.  A perhaps more familiar galaxy seen edge-on is our own Milky Way galaxy.  Also cataloged as M102, the Spindle galaxy has numerous and complex dust lanes appearing dark and red, while many of the bright stars in the disk give it a more blue underlying hue.  The blue disk of young stars can be seen in this Hubble image extending past the dust in the extremely thin galactic plane. There is evidence that the Spindle galaxy has cannibalized smaller galaxies over the past billion years or so, including multiple streams of faint stars, dark dust that extends away from the main galactic plane, and a surrounding group of galaxies (not shown).  In general, many disk galaxies become thin because the gas that forms them collides with itself as it rotates about the gravitational center. The Spindle galaxy lies about 50 million light years distant toward the constellation of the Dragon (Draco).',\n",
              " 'hdurl': 'https://apod.nasa.gov/apod/image/2403/M102_HubbleEbrahimian_3615.jpg',\n",
              " 'media_type': 'image',\n",
              " 'service_version': 'v1',\n",
              " 'title': 'M102: Edge-on Disk Galaxy',\n",
              " 'url': 'https://apod.nasa.gov/apod/image/2403/M102_HubbleEbrahimian_960.jpg'}"
            ]
          },
          "metadata": {},
          "execution_count": 12
        }
      ],
      "source": [
        "a = \"COaYpofESc8HotdkC23WgRBgIazUriF3AjgN1h12\"\n",
        "import requests\n",
        "x = requests.get(f\"https://api.nasa.gov/planetary/apod?api_key={a}\")\n",
        "print(x)\n",
        "x.json()"
      ]
    }
  ]
}