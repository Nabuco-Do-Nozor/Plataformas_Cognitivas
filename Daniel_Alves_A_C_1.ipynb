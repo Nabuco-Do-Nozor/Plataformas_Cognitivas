{
  "nbformat": 4,
  "nbformat_minor": 0,
  "metadata": {
    "colab": {
      "provenance": []
    },
    "kernelspec": {
      "name": "python3",
      "display_name": "Python 3"
    },
    "language_info": {
      "name": "python"
    }
  },
  "cells": [
    {
      "cell_type": "code",
      "execution_count": 16,
      "metadata": {
        "colab": {
          "base_uri": "https://localhost:8080/",
          "height": 70
        },
        "id": "EmO_r2kergDy",
        "outputId": "6dd28350-d429-40df-ef0a-c84461bf5a80"
      },
      "outputs": [
        {
          "output_type": "stream",
          "name": "stdout",
          "text": [
            "<Response [200]>\n",
            "O link é:\n"
          ]
        },
        {
          "output_type": "execute_result",
          "data": {
            "text/plain": [
              "'https://apod.nasa.gov/apod/image/2403/M102_HubbleEbrahimian_960.jpg'"
            ],
            "application/vnd.google.colaboratory.intrinsic+json": {
              "type": "string"
            }
          },
          "metadata": {},
          "execution_count": 16
        }
      ],
      "source": [
        "a = \"COaYpofESc8HotdkC23WgRBgIazUriF3AjgN1h12\"\n",
        "import requests\n",
        "x = requests.get(f\"https://api.nasa.gov/planetary/apod?api_key={a}\")\n",
        "print(x)\n",
        "x.json()\n",
        "print (\"O link é:\")\n",
        "x.json()['url']"
      ]
    }
  ]
}